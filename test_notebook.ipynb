{
 "cells": [
  {
   "cell_type": "markdown",
   "metadata": {},
   "source": [
    "# MST Algorithms"
   ]
  },
  {
   "cell_type": "code",
   "execution_count": 5,
   "metadata": {},
   "outputs": [],
   "source": [
    "import txt_reader\n",
    "import algorithms\n",
    "import os"
   ]
  },
  {
   "cell_type": "code",
   "execution_count": 9,
   "metadata": {},
   "outputs": [],
   "source": [
    "directory_name = 'mst_dataset'\n",
    "\n",
    "graphs = []\n",
    "\n",
    "for file in os.listdir(directory_name):\n",
    "     filename = os.fsdecode(file)\n",
    "     if filename.endswith(\".txt\"): \n",
    "        file_path = os.path.join(directory_name, filename)\n",
    "        g = txt_reader.file_to_graph(file_path)\n",
    "        graphs.append(g)"
   ]
  },
  {
   "cell_type": "code",
   "execution_count": 14,
   "metadata": {},
   "outputs": [
    {
     "name": "stdout",
     "output_type": "stream",
     "text": [
      "There should be 68 graphs in the list, there are 68 graphs\n"
     ]
    }
   ],
   "source": [
    "print('There should be 68 graphs in the list, there are {} graphs'.format(len(graphs)))"
   ]
  },
  {
   "cell_type": "markdown",
   "metadata": {},
   "source": [
    "Testing Prim's algorithm in a humanly checkable graph:"
   ]
  },
  {
   "cell_type": "code",
   "execution_count": 15,
   "metadata": {},
   "outputs": [
    {
     "name": "stdout",
     "output_type": "stream",
     "text": [
      "Graph:\n",
      "10 14\n",
      "1 2 5943\n",
      "2 3 9069\n",
      "3 4 -7466\n",
      "4 5 -5531\n",
      "5 6 -6013\n",
      "6 7 -6105\n",
      "7 8 606\n",
      "8 9 -7728\n",
      "9 10 -7187\n",
      "3 10 7309\n",
      "5 7 -9081\n",
      "6 1 -7899\n",
      "8 8 -6743\n",
      "9 10 -7504\n"
     ]
    }
   ],
   "source": [
    "print('Graph:')\n",
    "graphs[2].print_graph()"
   ]
  },
  {
   "cell_type": "code",
   "execution_count": 21,
   "metadata": {},
   "outputs": [
    {
     "name": "stdout",
     "output_type": "stream",
     "text": [
      "MST found by prims algorithm:\n",
      "[6, 1, 4, 0, 4, 7, 5, 7, 8, 9]\n",
      "Note: the i-th number represents the parent of the (i+1)-th vertex\n"
     ]
    }
   ],
   "source": [
    "print('MST found by prims algorithm:')\n",
    "mst = algorithms.prim(graphs[2], 4)\n",
    "print(mst)\n",
    "print('Note: the i-th number represents the parent of the (i+1)-th vertex')"
   ]
  }
 ],
 "metadata": {
  "kernelspec": {
   "display_name": "Python 3",
   "language": "python",
   "name": "python3"
  },
  "language_info": {
   "codemirror_mode": {
    "name": "ipython",
    "version": 3
   },
   "file_extension": ".py",
   "mimetype": "text/x-python",
   "name": "python",
   "nbconvert_exporter": "python",
   "pygments_lexer": "ipython3",
   "version": "3.7.6"
  }
 },
 "nbformat": 4,
 "nbformat_minor": 4
}
