{
 "cells": [
  {
   "cell_type": "markdown",
   "metadata": {},
   "source": [
    "# MST Algorithms"
   ]
  },
  {
   "cell_type": "code",
   "execution_count": 1,
   "metadata": {},
   "outputs": [],
   "source": [
    "import txt_reader\n",
    "import algorithms\n",
    "import os"
   ]
  },
  {
   "cell_type": "code",
   "execution_count": 2,
   "metadata": {},
   "outputs": [],
   "source": [
    "directory_name = 'mst_dataset'\n",
    "\n",
    "graphs = []\n",
    "file_names = []\n",
    "\n",
    "for file in os.listdir(directory_name):\n",
    "     filename = os.fsdecode(file)\n",
    "     if filename.endswith(\".txt\"): \n",
    "        file_path = os.path.join(directory_name, filename)\n",
    "        file_names.append(file_path)\n",
    "        g = txt_reader.file_to_graph(file_path)\n",
    "        graphs.append(g)"
   ]
  },
  {
   "cell_type": "code",
   "execution_count": 3,
   "metadata": {},
   "outputs": [
    {
     "name": "stdout",
     "output_type": "stream",
     "text": [
      "There should be 68 graphs in the list, there are 68 graphs\n"
     ]
    }
   ],
   "source": [
    "print('There should be 68 graphs in the list, there are {} graphs'.format(len(graphs)))"
   ]
  },
  {
   "cell_type": "markdown",
   "metadata": {},
   "source": [
    "Testing Prim's algorithm in a humanly checkable graph:"
   ]
  },
  {
   "cell_type": "code",
   "execution_count": 4,
   "metadata": {},
   "outputs": [
    {
     "name": "stdout",
     "output_type": "stream",
     "text": [
      "Graph:\n",
      "10 14\n",
      "1 2 5943\n",
      "2 3 9069\n",
      "3 4 -7466\n",
      "4 5 -5531\n",
      "5 6 -6013\n",
      "6 7 -6105\n",
      "7 8 606\n",
      "8 9 -7728\n",
      "9 10 -7187\n",
      "3 10 7309\n",
      "5 7 -9081\n",
      "6 1 -7899\n",
      "8 8 -6743\n",
      "9 10 -7504\n"
     ]
    }
   ],
   "source": [
    "print('Graph:')\n",
    "graphs[2].print_graph()"
   ]
  },
  {
   "cell_type": "code",
   "execution_count": 5,
   "metadata": {},
   "outputs": [
    {
     "name": "stdout",
     "output_type": "stream",
     "text": [
      "MST found by prims algorithm:\n",
      "[6, 1, 4, 0, 4, 7, 5, 7, 8, 9]\n",
      "Note: the i-th number represents the parent of the (i+1)-th vertex\n"
     ]
    }
   ],
   "source": [
    "print('MST found by prims algorithm:')\n",
    "mst = algorithms.prim(graphs[2], 4)\n",
    "print(mst)\n",
    "print('Note: the i-th number represents the parent of the (i+1)-th vertex')"
   ]
  },
  {
   "cell_type": "code",
   "execution_count": null,
   "metadata": {},
   "outputs": [
    {
     "name": "stdout",
     "output_type": "stream",
     "text": [
      "Done... 1\n",
      "Done... 2\n",
      "Done... 3\n",
      "Done... 4\n",
      "Done... 5\n",
      "Done... 6\n",
      "Done... 7\n",
      "Done... 8\n",
      "Done... 9\n",
      "Done... 10\n",
      "Done... 11\n",
      "Done... 12\n",
      "Done... 13\n",
      "Done... 14\n",
      "Done... 15\n",
      "Done... 16\n",
      "Done... 17\n",
      "Done... 18\n",
      "Done... 19\n",
      "Done... 20\n",
      "Done... 21\n",
      "Done... 22\n",
      "Done... 23\n",
      "Done... 24\n",
      "Done... 25\n",
      "Done... 26\n",
      "Done... 27\n",
      "Done... 28\n",
      "Done... 29\n",
      "Done... 30\n",
      "Done... 31\n",
      "Done... 32\n",
      "Done... 33\n",
      "Done... 34\n",
      "Done... 35\n",
      "Done... 36\n",
      "Done... 37\n",
      "Done... 38\n",
      "Done... 39\n",
      "Done... 40\n",
      "Done... 41\n",
      "Done... 42\n",
      "Done... 43\n",
      "Done... 44\n",
      "Done... 45\n",
      "Done... 46\n",
      "Done... 47\n",
      "Done... 48\n",
      "Done... 49\n",
      "Done... 50\n",
      "Done... 51\n"
     ]
    }
   ],
   "source": [
    "import time\n",
    "times = []\n",
    "\n",
    "i = 1\n",
    "for gr in graphs:\n",
    "    beginning = time.time()\n",
    "    \n",
    "    mst = algorithms.prim(gr, 4)\n",
    "    \n",
    "    end = time.time()\n",
    "    print(\"Done... {}\".format(i))\n",
    "    i+=1\n",
    "    times.append(beginning-end)"
   ]
  },
  {
   "cell_type": "code",
   "execution_count": null,
   "metadata": {},
   "outputs": [],
   "source": [
    "import matplotlib.pyplot as plt\n",
    "fig, ax = plt.subplots()\n",
    "ax.plot(file_names, times)\n",
    "ax.set(yscale='log', xlabel='graph', ylabel='time', title=\"Prim's algorithm\")\n",
    "ax.grid()\n",
    "plt.show()"
   ]
  },
  {
   "cell_type": "code",
   "execution_count": null,
   "metadata": {},
   "outputs": [],
   "source": []
  }
 ],
 "metadata": {
  "kernelspec": {
   "display_name": "Python 3",
   "language": "python",
   "name": "python3"
  },
  "language_info": {
   "codemirror_mode": {
    "name": "ipython",
    "version": 3
   },
   "file_extension": ".py",
   "mimetype": "text/x-python",
   "name": "python",
   "nbconvert_exporter": "python",
   "pygments_lexer": "ipython3",
   "version": "3.7.6"
  }
 },
 "nbformat": 4,
 "nbformat_minor": 4
}
